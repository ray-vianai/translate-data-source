{
 "cells": [
  {
   "cell_type": "code",
   "execution_count": 48,
   "metadata": {},
   "outputs": [],
   "source": [
    "from openai import OpenAI\n",
    "import pandas as pd\n",
    "from dotenv import load_dotenv\n",
    "import os\n",
    "import json\n",
    "from tqdm import tqdm\n",
    "import glob\n",
    "\n",
    "load_dotenv()\n",
    "\n",
    "client = OpenAI(api_key=os.getenv(\"OPENAI_API_KEY\"))"
   ]
  },
  {
   "cell_type": "code",
   "execution_count": 6,
   "metadata": {},
   "outputs": [
    {
     "data": {
      "text/plain": [
       "'你好，你好吗？'"
      ]
     },
     "execution_count": 6,
     "metadata": {},
     "output_type": "execute_result"
    }
   ],
   "source": [
    "def translate(input_text, target_language):\n",
    "    messages = [\n",
    "        {\"role\": \"system\", \"content\": f\"\"\"\n",
    "            You are a helpful English to {target_language} translator. \n",
    "            You will be provided with an English text and you will need to translate it to {target_language}.\n",
    "            Output in json format with key 'translated_text'\n",
    "            \"\"\"},\n",
    "        {\"role\": \"user\", \"content\": input_text}\n",
    "    ]\n",
    "    response = client.chat.completions.create(\n",
    "        model=\"gpt-4o-mini\",\n",
    "        messages=messages,\n",
    "        response_format={\"type\": \"json_object\"}\n",
    "    )\n",
    "    out = response.choices[0].message.content\n",
    "    try:\n",
    "        out = json.loads(out)\n",
    "        return out[\"translated_text\"]\n",
    "    except:\n",
    "        return out\n",
    "\n",
    "translate(\"Hello, how are you?\", \"Chinese\")"
   ]
  },
  {
   "cell_type": "code",
   "execution_count": 12,
   "metadata": {},
   "outputs": [],
   "source": [
    "target_language = \"Japanese\""
   ]
  },
  {
   "cell_type": "code",
   "execution_count": 13,
   "metadata": {},
   "outputs": [],
   "source": [
    "translation_dictionary = {\n",
    "}"
   ]
  },
  {
   "cell_type": "code",
   "execution_count": 34,
   "metadata": {},
   "outputs": [],
   "source": [
    "def translate_column(df, column_name):\n",
    "    \"\"\"\n",
    "    Translates unique values in a column and adds them to translation dictionary\n",
    "    \n",
    "    Args:\n",
    "        df: pandas DataFrame containing the column\n",
    "        column_name: name of column to translate\n",
    "        \n",
    "    Returns:\n",
    "        DataFrame with translated column\n",
    "    \"\"\"\n",
    "    # First add any missing translations to dictionary\n",
    "    for value in tqdm(df[column_name].unique(), total=len(df[column_name].unique())):\n",
    "        if value not in translation_dictionary.keys():\n",
    "            translation_dictionary[value] = translate(value, target_language)\n",
    "    \n",
    "    # Create new translated column\n",
    "    translated_col = df[column_name].map(translation_dictionary)\n",
    "    df[f\"{column_name}\"] = translated_col\n",
    "    return df"
   ]
  },
  {
   "cell_type": "markdown",
   "metadata": {},
   "source": [
    "# Account"
   ]
  },
  {
   "cell_type": "code",
   "execution_count": 14,
   "metadata": {},
   "outputs": [
    {
     "name": "stdout",
     "output_type": "stream",
     "text": [
      "(42, 7)\n"
     ]
    },
    {
     "data": {
      "text/html": [
       "<div>\n",
       "<style scoped>\n",
       "    .dataframe tbody tr th:only-of-type {\n",
       "        vertical-align: middle;\n",
       "    }\n",
       "\n",
       "    .dataframe tbody tr th {\n",
       "        vertical-align: top;\n",
       "    }\n",
       "\n",
       "    .dataframe thead th {\n",
       "        text-align: right;\n",
       "    }\n",
       "</style>\n",
       "<table border=\"1\" class=\"dataframe\">\n",
       "  <thead>\n",
       "    <tr style=\"text-align: right;\">\n",
       "      <th></th>\n",
       "      <th>account_number</th>\n",
       "      <th>account_name</th>\n",
       "      <th>account_type_code</th>\n",
       "      <th>account_type</th>\n",
       "      <th>account_subtype_code</th>\n",
       "      <th>account_subtype</th>\n",
       "      <th>account_category</th>\n",
       "    </tr>\n",
       "  </thead>\n",
       "  <tbody>\n",
       "    <tr>\n",
       "      <th>0</th>\n",
       "      <td>40001</td>\n",
       "      <td>Sales Revenue - Wholesale</td>\n",
       "      <td>REV</td>\n",
       "      <td>Revenue</td>\n",
       "      <td>INC</td>\n",
       "      <td>Income</td>\n",
       "      <td>Sales Revenue</td>\n",
       "    </tr>\n",
       "    <tr>\n",
       "      <th>1</th>\n",
       "      <td>40002</td>\n",
       "      <td>Sales Revenue - Direct to Consumer</td>\n",
       "      <td>REV</td>\n",
       "      <td>Revenue</td>\n",
       "      <td>INC</td>\n",
       "      <td>Income</td>\n",
       "      <td>Sales Revenue</td>\n",
       "    </tr>\n",
       "  </tbody>\n",
       "</table>\n",
       "</div>"
      ],
      "text/plain": [
       "  account_number                        account_name account_type_code  \\\n",
       "0          40001           Sales Revenue - Wholesale               REV   \n",
       "1          40002  Sales Revenue - Direct to Consumer               REV   \n",
       "\n",
       "  account_type account_subtype_code account_subtype account_category  \n",
       "0      Revenue                  INC          Income    Sales Revenue  \n",
       "1      Revenue                  INC          Income    Sales Revenue  "
      ]
     },
     "execution_count": 14,
     "metadata": {},
     "output_type": "execute_result"
    }
   ],
   "source": [
    "account = pd.read_parquet(\"data/account.parquet\")\n",
    "print(account.shape)\n",
    "account.head(2)"
   ]
  },
  {
   "cell_type": "code",
   "execution_count": 21,
   "metadata": {},
   "outputs": [
    {
     "name": "stderr",
     "output_type": "stream",
     "text": [
      "100%|██████████| 42/42 [00:00<00:00, 635959.45it/s]\n",
      "100%|██████████| 2/2 [00:00<00:00, 49932.19it/s]\n",
      "100%|██████████| 5/5 [00:00<00:00, 119156.36it/s]\n",
      "100%|██████████| 13/13 [00:00<00:00, 223467.02it/s]\n"
     ]
    }
   ],
   "source": [
    "# Translate specified columns\n",
    "translated_account = account.copy()\n",
    "for column in [\"account_name\", \"account_type\", \"account_subtype\", \"account_category\"]:\n",
    "    translated_account = translate_column(translated_account, column)\n",
    "translated_account.to_parquet(\"out/account.parquet\")"
   ]
  },
  {
   "cell_type": "code",
   "execution_count": 28,
   "metadata": {},
   "outputs": [],
   "source": []
  },
  {
   "cell_type": "markdown",
   "metadata": {},
   "source": [
    "# Channel"
   ]
  },
  {
   "cell_type": "code",
   "execution_count": 29,
   "metadata": {},
   "outputs": [
    {
     "name": "stdout",
     "output_type": "stream",
     "text": [
      "(5, 2)\n"
     ]
    },
    {
     "data": {
      "text/html": [
       "<div>\n",
       "<style scoped>\n",
       "    .dataframe tbody tr th:only-of-type {\n",
       "        vertical-align: middle;\n",
       "    }\n",
       "\n",
       "    .dataframe tbody tr th {\n",
       "        vertical-align: top;\n",
       "    }\n",
       "\n",
       "    .dataframe thead th {\n",
       "        text-align: right;\n",
       "    }\n",
       "</style>\n",
       "<table border=\"1\" class=\"dataframe\">\n",
       "  <thead>\n",
       "    <tr style=\"text-align: right;\">\n",
       "      <th></th>\n",
       "      <th>channel_number</th>\n",
       "      <th>channel_name</th>\n",
       "    </tr>\n",
       "  </thead>\n",
       "  <tbody>\n",
       "    <tr>\n",
       "      <th>0</th>\n",
       "      <td>CH00001</td>\n",
       "      <td>Direct-to-Consumer (DTC)</td>\n",
       "    </tr>\n",
       "    <tr>\n",
       "      <th>1</th>\n",
       "      <td>CH00002</td>\n",
       "      <td>Brick-and-Mortar Retail</td>\n",
       "    </tr>\n",
       "  </tbody>\n",
       "</table>\n",
       "</div>"
      ],
      "text/plain": [
       "  channel_number              channel_name\n",
       "0        CH00001  Direct-to-Consumer (DTC)\n",
       "1        CH00002   Brick-and-Mortar Retail"
      ]
     },
     "execution_count": 29,
     "metadata": {},
     "output_type": "execute_result"
    }
   ],
   "source": [
    "channel = pd.read_parquet(\"data/channel.parquet\")\n",
    "print(channel.shape)\n",
    "channel.head(2)"
   ]
  },
  {
   "cell_type": "code",
   "execution_count": 30,
   "metadata": {},
   "outputs": [
    {
     "name": "stderr",
     "output_type": "stream",
     "text": [
      "100%|██████████| 5/5 [00:03<00:00,  1.33it/s]\n"
     ]
    }
   ],
   "source": [
    "translated_channel = channel.copy()\n",
    "for column in [\"channel_name\"]:\n",
    "    translated_channel = translate_column(translated_channel, column)\n",
    "translated_channel.to_parquet(\"out/channel.parquet\")"
   ]
  },
  {
   "cell_type": "markdown",
   "metadata": {},
   "source": [
    "# Company"
   ]
  },
  {
   "cell_type": "code",
   "execution_count": 33,
   "metadata": {},
   "outputs": [
    {
     "name": "stdout",
     "output_type": "stream",
     "text": [
      "(10, 6)\n"
     ]
    },
    {
     "data": {
      "text/html": [
       "<div>\n",
       "<style scoped>\n",
       "    .dataframe tbody tr th:only-of-type {\n",
       "        vertical-align: middle;\n",
       "    }\n",
       "\n",
       "    .dataframe tbody tr th {\n",
       "        vertical-align: top;\n",
       "    }\n",
       "\n",
       "    .dataframe thead th {\n",
       "        text-align: right;\n",
       "    }\n",
       "</style>\n",
       "<table border=\"1\" class=\"dataframe\">\n",
       "  <thead>\n",
       "    <tr style=\"text-align: right;\">\n",
       "      <th></th>\n",
       "      <th>company_code</th>\n",
       "      <th>company_name</th>\n",
       "      <th>company_country</th>\n",
       "      <th>company_region</th>\n",
       "      <th>currency_code</th>\n",
       "      <th>language_code</th>\n",
       "    </tr>\n",
       "  </thead>\n",
       "  <tbody>\n",
       "    <tr>\n",
       "      <th>0</th>\n",
       "      <td>AUS</td>\n",
       "      <td>EverGreen Australia Pty Ltd</td>\n",
       "      <td>Australia</td>\n",
       "      <td>Oceania</td>\n",
       "      <td>AUD</td>\n",
       "      <td>en</td>\n",
       "    </tr>\n",
       "    <tr>\n",
       "      <th>1</th>\n",
       "      <td>NZL</td>\n",
       "      <td>EverGreen New Zealand Ltd</td>\n",
       "      <td>New Zealand</td>\n",
       "      <td>Oceania</td>\n",
       "      <td>NZD</td>\n",
       "      <td>en</td>\n",
       "    </tr>\n",
       "  </tbody>\n",
       "</table>\n",
       "</div>"
      ],
      "text/plain": [
       "  company_code                 company_name company_country company_region  \\\n",
       "0          AUS  EverGreen Australia Pty Ltd       Australia        Oceania   \n",
       "1          NZL    EverGreen New Zealand Ltd     New Zealand        Oceania   \n",
       "\n",
       "  currency_code language_code  \n",
       "0           AUD            en  \n",
       "1           NZD            en  "
      ]
     },
     "execution_count": 33,
     "metadata": {},
     "output_type": "execute_result"
    }
   ],
   "source": [
    "company = pd.read_parquet(\"data/company.parquet\")\n",
    "print(company.shape)\n",
    "company.head(2)"
   ]
  },
  {
   "cell_type": "code",
   "execution_count": 36,
   "metadata": {},
   "outputs": [
    {
     "name": "stderr",
     "output_type": "stream",
     "text": [
      "100%|██████████| 10/10 [00:06<00:00,  1.48it/s]\n",
      "100%|██████████| 10/10 [00:07<00:00,  1.26it/s]\n",
      "100%|██████████| 4/4 [00:03<00:00,  1.08it/s]\n"
     ]
    }
   ],
   "source": [
    "translated_company = company.copy()\n",
    "for column in [\"company_name\", \"company_country\", \"company_region\"]:\n",
    "    translated_company = translate_column(translated_company, column)\n",
    "translated_company.to_parquet(\"out/company.parquet\")"
   ]
  },
  {
   "cell_type": "code",
   "execution_count": 38,
   "metadata": {},
   "outputs": [
    {
     "data": {
      "text/html": [
       "<div>\n",
       "<style scoped>\n",
       "    .dataframe tbody tr th:only-of-type {\n",
       "        vertical-align: middle;\n",
       "    }\n",
       "\n",
       "    .dataframe tbody tr th {\n",
       "        vertical-align: top;\n",
       "    }\n",
       "\n",
       "    .dataframe thead th {\n",
       "        text-align: right;\n",
       "    }\n",
       "</style>\n",
       "<table border=\"1\" class=\"dataframe\">\n",
       "  <thead>\n",
       "    <tr style=\"text-align: right;\">\n",
       "      <th></th>\n",
       "      <th>parent_company_name</th>\n",
       "      <th>company_name</th>\n",
       "      <th>company_code</th>\n",
       "      <th>company_country</th>\n",
       "      <th>company_currency</th>\n",
       "      <th>global_currency</th>\n",
       "    </tr>\n",
       "  </thead>\n",
       "  <tbody>\n",
       "    <tr>\n",
       "      <th>AUS</th>\n",
       "      <td>EverGreen Pvt Ltd</td>\n",
       "      <td>EverGreen Australia Pty Ltd</td>\n",
       "      <td>AUS</td>\n",
       "      <td>Australia</td>\n",
       "      <td>AUD</td>\n",
       "      <td>USD</td>\n",
       "    </tr>\n",
       "    <tr>\n",
       "      <th>BRA</th>\n",
       "      <td>EverGreen Pvt Ltd</td>\n",
       "      <td>EverGreen do Brasil Ltda</td>\n",
       "      <td>BRA</td>\n",
       "      <td>Brazil</td>\n",
       "      <td>BRL</td>\n",
       "      <td>USD</td>\n",
       "    </tr>\n",
       "  </tbody>\n",
       "</table>\n",
       "</div>"
      ],
      "text/plain": [
       "    parent_company_name                 company_name company_code  \\\n",
       "AUS   EverGreen Pvt Ltd  EverGreen Australia Pty Ltd          AUS   \n",
       "BRA   EverGreen Pvt Ltd     EverGreen do Brasil Ltda          BRA   \n",
       "\n",
       "    company_country company_currency global_currency  \n",
       "AUS       Australia              AUD             USD  \n",
       "BRA          Brazil              BRL             USD  "
      ]
     },
     "execution_count": 38,
     "metadata": {},
     "output_type": "execute_result"
    }
   ],
   "source": [
    "company_config = pd.read_json(\"data/company_config.json\", orient=\"index\")\n",
    "company_config.head(2)"
   ]
  },
  {
   "cell_type": "code",
   "execution_count": 39,
   "metadata": {},
   "outputs": [
    {
     "name": "stderr",
     "output_type": "stream",
     "text": [
      "100%|██████████| 1/1 [00:00<00:00,  1.50it/s]\n",
      "100%|██████████| 10/10 [00:00<00:00, 156503.88it/s]\n",
      "100%|██████████| 10/10 [00:00<00:00, 217321.45it/s]\n"
     ]
    }
   ],
   "source": [
    "translated_company_config = company_config.copy()\n",
    "for column in [\"parent_company_name\", \"company_name\", \"company_country\"]:\n",
    "    translated_company_config = translate_column(translated_company_config, column)\n",
    "translated_company_config.to_json(\"out/company_config.json\", orient=\"index\")"
   ]
  },
  {
   "cell_type": "markdown",
   "metadata": {},
   "source": [
    "# Config"
   ]
  },
  {
   "cell_type": "code",
   "execution_count": 41,
   "metadata": {},
   "outputs": [
    {
     "name": "stdout",
     "output_type": "stream",
     "text": [
      "(1, 2)\n"
     ]
    },
    {
     "data": {
      "text/html": [
       "<div>\n",
       "<style scoped>\n",
       "    .dataframe tbody tr th:only-of-type {\n",
       "        vertical-align: middle;\n",
       "    }\n",
       "\n",
       "    .dataframe tbody tr th {\n",
       "        vertical-align: top;\n",
       "    }\n",
       "\n",
       "    .dataframe thead th {\n",
       "        text-align: right;\n",
       "    }\n",
       "</style>\n",
       "<table border=\"1\" class=\"dataframe\">\n",
       "  <thead>\n",
       "    <tr style=\"text-align: right;\">\n",
       "      <th></th>\n",
       "      <th>config_key</th>\n",
       "      <th>config_value</th>\n",
       "    </tr>\n",
       "  </thead>\n",
       "  <tbody>\n",
       "    <tr>\n",
       "      <th>0</th>\n",
       "      <td>latest_closed_period</td>\n",
       "      <td>2025-P02</td>\n",
       "    </tr>\n",
       "  </tbody>\n",
       "</table>\n",
       "</div>"
      ],
      "text/plain": [
       "             config_key config_value\n",
       "0  latest_closed_period     2025-P02"
      ]
     },
     "execution_count": 41,
     "metadata": {},
     "output_type": "execute_result"
    }
   ],
   "source": [
    "config = pd.read_parquet(\"data/config.parquet\")\n",
    "print(config.shape)\n",
    "config.head(2)"
   ]
  },
  {
   "cell_type": "code",
   "execution_count": 42,
   "metadata": {},
   "outputs": [],
   "source": [
    "config.to_parquet(\"out/config.parquet\")"
   ]
  },
  {
   "cell_type": "markdown",
   "metadata": {},
   "source": [
    "# Cost Center"
   ]
  },
  {
   "cell_type": "code",
   "execution_count": 43,
   "metadata": {},
   "outputs": [
    {
     "name": "stdout",
     "output_type": "stream",
     "text": [
      "(20, 2)\n"
     ]
    },
    {
     "data": {
      "text/html": [
       "<div>\n",
       "<style scoped>\n",
       "    .dataframe tbody tr th:only-of-type {\n",
       "        vertical-align: middle;\n",
       "    }\n",
       "\n",
       "    .dataframe tbody tr th {\n",
       "        vertical-align: top;\n",
       "    }\n",
       "\n",
       "    .dataframe thead th {\n",
       "        text-align: right;\n",
       "    }\n",
       "</style>\n",
       "<table border=\"1\" class=\"dataframe\">\n",
       "  <thead>\n",
       "    <tr style=\"text-align: right;\">\n",
       "      <th></th>\n",
       "      <th>cost_center_number</th>\n",
       "      <th>cost_center_name</th>\n",
       "    </tr>\n",
       "  </thead>\n",
       "  <tbody>\n",
       "    <tr>\n",
       "      <th>0</th>\n",
       "      <td>CC1001</td>\n",
       "      <td>Manufacturing Plant A</td>\n",
       "    </tr>\n",
       "    <tr>\n",
       "      <th>1</th>\n",
       "      <td>CC1002</td>\n",
       "      <td>Manufacturing Plant B</td>\n",
       "    </tr>\n",
       "  </tbody>\n",
       "</table>\n",
       "</div>"
      ],
      "text/plain": [
       "  cost_center_number       cost_center_name\n",
       "0             CC1001  Manufacturing Plant A\n",
       "1             CC1002  Manufacturing Plant B"
      ]
     },
     "execution_count": 43,
     "metadata": {},
     "output_type": "execute_result"
    }
   ],
   "source": [
    "cost_center = pd.read_parquet(\"data/cost_center.parquet\")\n",
    "print(cost_center.shape)\n",
    "cost_center.head(2)"
   ]
  },
  {
   "cell_type": "code",
   "execution_count": 44,
   "metadata": {},
   "outputs": [
    {
     "name": "stderr",
     "output_type": "stream",
     "text": [
      "100%|██████████| 20/20 [00:13<00:00,  1.49it/s]\n"
     ]
    }
   ],
   "source": [
    "translated_cost_center = cost_center.copy()\n",
    "for column in [\"cost_center_name\"]:\n",
    "    translated_cost_center = translate_column(translated_cost_center, column)\n",
    "translated_cost_center.to_parquet(\"out/cost_center.parquet\")"
   ]
  },
  {
   "cell_type": "markdown",
   "metadata": {},
   "source": [
    "# Customer"
   ]
  },
  {
   "cell_type": "code",
   "execution_count": 45,
   "metadata": {},
   "outputs": [
    {
     "name": "stdout",
     "output_type": "stream",
     "text": [
      "(500, 2)\n"
     ]
    },
    {
     "data": {
      "text/html": [
       "<div>\n",
       "<style scoped>\n",
       "    .dataframe tbody tr th:only-of-type {\n",
       "        vertical-align: middle;\n",
       "    }\n",
       "\n",
       "    .dataframe tbody tr th {\n",
       "        vertical-align: top;\n",
       "    }\n",
       "\n",
       "    .dataframe thead th {\n",
       "        text-align: right;\n",
       "    }\n",
       "</style>\n",
       "<table border=\"1\" class=\"dataframe\">\n",
       "  <thead>\n",
       "    <tr style=\"text-align: right;\">\n",
       "      <th></th>\n",
       "      <th>customer_number</th>\n",
       "      <th>customer_name</th>\n",
       "    </tr>\n",
       "  </thead>\n",
       "  <tbody>\n",
       "    <tr>\n",
       "      <th>0</th>\n",
       "      <td>CS08001</td>\n",
       "      <td>Acme Retailers</td>\n",
       "    </tr>\n",
       "    <tr>\n",
       "      <th>1</th>\n",
       "      <td>CS08002</td>\n",
       "      <td>BrightMart</td>\n",
       "    </tr>\n",
       "  </tbody>\n",
       "</table>\n",
       "</div>"
      ],
      "text/plain": [
       "  customer_number   customer_name\n",
       "0         CS08001  Acme Retailers\n",
       "1         CS08002      BrightMart"
      ]
     },
     "execution_count": 45,
     "metadata": {},
     "output_type": "execute_result"
    }
   ],
   "source": [
    "customer = pd.read_parquet(\"data/customer.parquet\")\n",
    "print(customer.shape)\n",
    "customer.head(2)"
   ]
  },
  {
   "cell_type": "code",
   "execution_count": 46,
   "metadata": {},
   "outputs": [
    {
     "name": "stderr",
     "output_type": "stream",
     "text": [
      "100%|██████████| 500/500 [06:13<00:00,  1.34it/s]\n"
     ]
    }
   ],
   "source": [
    "translated_customer = customer.copy()\n",
    "for column in [\"customer_name\"]:\n",
    "    translated_customer = translate_column(translated_customer, column)\n",
    "translated_customer.to_parquet(\"out/customer.parquet\")"
   ]
  },
  {
   "cell_type": "markdown",
   "metadata": {},
   "source": [
    "# Department"
   ]
  },
  {
   "cell_type": "code",
   "execution_count": 50,
   "metadata": {},
   "outputs": [
    {
     "name": "stdout",
     "output_type": "stream",
     "text": [
      "(15, 2)\n"
     ]
    },
    {
     "data": {
      "text/html": [
       "<div>\n",
       "<style scoped>\n",
       "    .dataframe tbody tr th:only-of-type {\n",
       "        vertical-align: middle;\n",
       "    }\n",
       "\n",
       "    .dataframe tbody tr th {\n",
       "        vertical-align: top;\n",
       "    }\n",
       "\n",
       "    .dataframe thead th {\n",
       "        text-align: right;\n",
       "    }\n",
       "</style>\n",
       "<table border=\"1\" class=\"dataframe\">\n",
       "  <thead>\n",
       "    <tr style=\"text-align: right;\">\n",
       "      <th></th>\n",
       "      <th>department_number</th>\n",
       "      <th>department_name</th>\n",
       "    </tr>\n",
       "  </thead>\n",
       "  <tbody>\n",
       "    <tr>\n",
       "      <th>0</th>\n",
       "      <td>DP001</td>\n",
       "      <td>Research and Development</td>\n",
       "    </tr>\n",
       "    <tr>\n",
       "      <th>1</th>\n",
       "      <td>DP002</td>\n",
       "      <td>Product Management</td>\n",
       "    </tr>\n",
       "  </tbody>\n",
       "</table>\n",
       "</div>"
      ],
      "text/plain": [
       "  department_number           department_name\n",
       "0             DP001  Research and Development\n",
       "1             DP002        Product Management"
      ]
     },
     "execution_count": 50,
     "metadata": {},
     "output_type": "execute_result"
    }
   ],
   "source": [
    "department = pd.read_parquet(\"data/department.parquet\")\n",
    "print(department.shape)\n",
    "department.head(2)"
   ]
  },
  {
   "cell_type": "code",
   "execution_count": 51,
   "metadata": {},
   "outputs": [
    {
     "name": "stderr",
     "output_type": "stream",
     "text": [
      "100%|██████████| 15/15 [00:04<00:00,  3.27it/s]\n"
     ]
    }
   ],
   "source": [
    "translated_department = department.copy()\n",
    "for column in [\"department_name\"]:\n",
    "    translated_department = translate_column(translated_department, column)\n",
    "translated_department.to_parquet(\"out/department.parquet\")"
   ]
  },
  {
   "cell_type": "markdown",
   "metadata": {},
   "source": [
    "# Division"
   ]
  },
  {
   "cell_type": "code",
   "execution_count": 54,
   "metadata": {},
   "outputs": [
    {
     "name": "stdout",
     "output_type": "stream",
     "text": [
      "(6, 2)\n"
     ]
    },
    {
     "data": {
      "text/html": [
       "<div>\n",
       "<style scoped>\n",
       "    .dataframe tbody tr th:only-of-type {\n",
       "        vertical-align: middle;\n",
       "    }\n",
       "\n",
       "    .dataframe tbody tr th {\n",
       "        vertical-align: top;\n",
       "    }\n",
       "\n",
       "    .dataframe thead th {\n",
       "        text-align: right;\n",
       "    }\n",
       "</style>\n",
       "<table border=\"1\" class=\"dataframe\">\n",
       "  <thead>\n",
       "    <tr style=\"text-align: right;\">\n",
       "      <th></th>\n",
       "      <th>division_number</th>\n",
       "      <th>division_name</th>\n",
       "    </tr>\n",
       "  </thead>\n",
       "  <tbody>\n",
       "    <tr>\n",
       "      <th>0</th>\n",
       "      <td>DV00001</td>\n",
       "      <td>Marketing</td>\n",
       "    </tr>\n",
       "    <tr>\n",
       "      <th>1</th>\n",
       "      <td>DV00002</td>\n",
       "      <td>Sales</td>\n",
       "    </tr>\n",
       "  </tbody>\n",
       "</table>\n",
       "</div>"
      ],
      "text/plain": [
       "  division_number division_name\n",
       "0         DV00001     Marketing\n",
       "1         DV00002         Sales"
      ]
     },
     "execution_count": 54,
     "metadata": {},
     "output_type": "execute_result"
    }
   ],
   "source": [
    "division = pd.read_parquet(\"data/division.parquet\")\n",
    "print(division.shape)\n",
    "division.head(2)"
   ]
  },
  {
   "cell_type": "code",
   "execution_count": 55,
   "metadata": {},
   "outputs": [
    {
     "name": "stderr",
     "output_type": "stream",
     "text": [
      "100%|██████████| 6/6 [00:00<00:00, 10.20it/s]\n"
     ]
    }
   ],
   "source": [
    "translated_division = division.copy()\n",
    "for column in [\"division_name\"]:\n",
    "    translated_division = translate_column(translated_division, column)\n",
    "translated_division.to_parquet(\"out/division.parquet\")"
   ]
  },
  {
   "cell_type": "markdown",
   "metadata": {},
   "source": [
    "# Fiscal Calendar"
   ]
  },
  {
   "cell_type": "code",
   "execution_count": 56,
   "metadata": {},
   "outputs": [
    {
     "name": "stdout",
     "output_type": "stream",
     "text": [
      "(4748, 5)\n"
     ]
    },
    {
     "data": {
      "text/html": [
       "<div>\n",
       "<style scoped>\n",
       "    .dataframe tbody tr th:only-of-type {\n",
       "        vertical-align: middle;\n",
       "    }\n",
       "\n",
       "    .dataframe tbody tr th {\n",
       "        vertical-align: top;\n",
       "    }\n",
       "\n",
       "    .dataframe thead th {\n",
       "        text-align: right;\n",
       "    }\n",
       "</style>\n",
       "<table border=\"1\" class=\"dataframe\">\n",
       "  <thead>\n",
       "    <tr style=\"text-align: right;\">\n",
       "      <th></th>\n",
       "      <th>posting_date</th>\n",
       "      <th>fiscal_year</th>\n",
       "      <th>fiscal_period</th>\n",
       "      <th>fiscal_month</th>\n",
       "      <th>fiscal_quarter</th>\n",
       "    </tr>\n",
       "  </thead>\n",
       "  <tbody>\n",
       "    <tr>\n",
       "      <th>0</th>\n",
       "      <td>2018-01-01</td>\n",
       "      <td>2018</td>\n",
       "      <td>P01</td>\n",
       "      <td>M01</td>\n",
       "      <td>Q1</td>\n",
       "    </tr>\n",
       "    <tr>\n",
       "      <th>1</th>\n",
       "      <td>2018-01-02</td>\n",
       "      <td>2018</td>\n",
       "      <td>P01</td>\n",
       "      <td>M01</td>\n",
       "      <td>Q1</td>\n",
       "    </tr>\n",
       "  </tbody>\n",
       "</table>\n",
       "</div>"
      ],
      "text/plain": [
       "  posting_date fiscal_year fiscal_period fiscal_month fiscal_quarter\n",
       "0   2018-01-01        2018           P01          M01             Q1\n",
       "1   2018-01-02        2018           P01          M01             Q1"
      ]
     },
     "execution_count": 56,
     "metadata": {},
     "output_type": "execute_result"
    }
   ],
   "source": [
    "fiscal_calendar = pd.read_parquet(\"data/fiscal_calendar.parquet\")\n",
    "print(fiscal_calendar.shape)\n",
    "fiscal_calendar.head(2)"
   ]
  },
  {
   "cell_type": "code",
   "execution_count": 57,
   "metadata": {},
   "outputs": [],
   "source": [
    "fiscal_calendar.to_parquet(\"out/fiscal_calendar.parquet\")"
   ]
  },
  {
   "cell_type": "markdown",
   "metadata": {},
   "source": [
    "# Fiscal Period"
   ]
  },
  {
   "cell_type": "code",
   "execution_count": 58,
   "metadata": {},
   "outputs": [
    {
     "name": "stdout",
     "output_type": "stream",
     "text": [
      "(156, 4)\n"
     ]
    },
    {
     "data": {
      "text/html": [
       "<div>\n",
       "<style scoped>\n",
       "    .dataframe tbody tr th:only-of-type {\n",
       "        vertical-align: middle;\n",
       "    }\n",
       "\n",
       "    .dataframe tbody tr th {\n",
       "        vertical-align: top;\n",
       "    }\n",
       "\n",
       "    .dataframe thead th {\n",
       "        text-align: right;\n",
       "    }\n",
       "</style>\n",
       "<table border=\"1\" class=\"dataframe\">\n",
       "  <thead>\n",
       "    <tr style=\"text-align: right;\">\n",
       "      <th></th>\n",
       "      <th>fiscal_year</th>\n",
       "      <th>fiscal_period</th>\n",
       "      <th>fiscal_month</th>\n",
       "      <th>fiscal_quarter</th>\n",
       "    </tr>\n",
       "  </thead>\n",
       "  <tbody>\n",
       "    <tr>\n",
       "      <th>0</th>\n",
       "      <td>2018</td>\n",
       "      <td>P01</td>\n",
       "      <td>M01</td>\n",
       "      <td>Q1</td>\n",
       "    </tr>\n",
       "    <tr>\n",
       "      <th>1</th>\n",
       "      <td>2018</td>\n",
       "      <td>P02</td>\n",
       "      <td>M02</td>\n",
       "      <td>Q1</td>\n",
       "    </tr>\n",
       "  </tbody>\n",
       "</table>\n",
       "</div>"
      ],
      "text/plain": [
       "  fiscal_year fiscal_period fiscal_month fiscal_quarter\n",
       "0        2018           P01          M01             Q1\n",
       "1        2018           P02          M02             Q1"
      ]
     },
     "execution_count": 58,
     "metadata": {},
     "output_type": "execute_result"
    }
   ],
   "source": [
    "fiscal_period = pd.read_parquet(\"data/fiscal_period.parquet\")\n",
    "print(fiscal_period.shape)\n",
    "fiscal_period.head(2)"
   ]
  },
  {
   "cell_type": "code",
   "execution_count": 59,
   "metadata": {},
   "outputs": [],
   "source": [
    "fiscal_period.to_parquet(\"out/fiscal_period.parquet\")"
   ]
  },
  {
   "cell_type": "markdown",
   "metadata": {},
   "source": [
    "# Journal"
   ]
  },
  {
   "cell_type": "code",
   "execution_count": 61,
   "metadata": {},
   "outputs": [
    {
     "data": {
      "text/html": [
       "<div>\n",
       "<style scoped>\n",
       "    .dataframe tbody tr th:only-of-type {\n",
       "        vertical-align: middle;\n",
       "    }\n",
       "\n",
       "    .dataframe tbody tr th {\n",
       "        vertical-align: top;\n",
       "    }\n",
       "\n",
       "    .dataframe thead th {\n",
       "        text-align: right;\n",
       "    }\n",
       "</style>\n",
       "<table border=\"1\" class=\"dataframe\">\n",
       "  <thead>\n",
       "    <tr style=\"text-align: right;\">\n",
       "      <th></th>\n",
       "      <th>company_code</th>\n",
       "      <th>posting_date</th>\n",
       "      <th>fiscal_year</th>\n",
       "      <th>fiscal_period</th>\n",
       "      <th>account_number</th>\n",
       "      <th>company_currency</th>\n",
       "      <th>company_amount</th>\n",
       "      <th>global_currency</th>\n",
       "      <th>global_amount</th>\n",
       "      <th>department_number</th>\n",
       "      <th>cost_center_number</th>\n",
       "      <th>profit_center_number</th>\n",
       "      <th>purchase_order_number</th>\n",
       "      <th>invoice_number</th>\n",
       "      <th>supplier_number</th>\n",
       "      <th>material_number</th>\n",
       "      <th>sales_order_number</th>\n",
       "      <th>customer_number</th>\n",
       "      <th>product_number</th>\n",
       "      <th>channel_number</th>\n",
       "      <th>division_number</th>\n",
       "      <th>transaction_id</th>\n",
       "      <th>transaction_type</th>\n",
       "      <th>transaction_document_number</th>\n",
       "      <th>transaction_document_item</th>\n",
       "      <th>transaction_description</th>\n",
       "      <th>reference_procedure</th>\n",
       "    </tr>\n",
       "  </thead>\n",
       "  <tbody>\n",
       "    <tr>\n",
       "      <th>0</th>\n",
       "      <td>BRA</td>\n",
       "      <td>2025-03-23</td>\n",
       "      <td>2025</td>\n",
       "      <td>P03</td>\n",
       "      <td>40003</td>\n",
       "      <td>BRL</td>\n",
       "      <td>100006.30</td>\n",
       "      <td>USD</td>\n",
       "      <td>19048.82</td>\n",
       "      <td>DP006</td>\n",
       "      <td>CC1001</td>\n",
       "      <td>PC0004</td>\n",
       "      <td>PSP03351-2503</td>\n",
       "      <td>ISP03351-2503</td>\n",
       "      <td>SP03351</td>\n",
       "      <td>M090001</td>\n",
       "      <td>SCS08020-2503</td>\n",
       "      <td>CS08020</td>\n",
       "      <td>P060045</td>\n",
       "      <td>CH00002</td>\n",
       "      <td>DV00002</td>\n",
       "      <td>7317919591018176512</td>\n",
       "      <td>TT002</td>\n",
       "      <td>250323-713</td>\n",
       "      <td>132</td>\n",
       "      <td></td>\n",
       "      <td>RP003</td>\n",
       "    </tr>\n",
       "    <tr>\n",
       "      <th>1</th>\n",
       "      <td>CHN</td>\n",
       "      <td>2022-12-16</td>\n",
       "      <td>2022</td>\n",
       "      <td>P12</td>\n",
       "      <td>61005</td>\n",
       "      <td>CNY</td>\n",
       "      <td>7720.34</td>\n",
       "      <td>USD</td>\n",
       "      <td>1069.30</td>\n",
       "      <td>DP004</td>\n",
       "      <td>CC1010</td>\n",
       "      <td>PC0005</td>\n",
       "      <td>PSP03221-2212</td>\n",
       "      <td>ISP03221-2212</td>\n",
       "      <td>SP03221</td>\n",
       "      <td>M090149</td>\n",
       "      <td>SCS08370-2212</td>\n",
       "      <td>CS08370</td>\n",
       "      <td>P060057</td>\n",
       "      <td>CH00002</td>\n",
       "      <td>DV00001</td>\n",
       "      <td>7317919591085285376</td>\n",
       "      <td>TT002</td>\n",
       "      <td>221216-048</td>\n",
       "      <td>223</td>\n",
       "      <td></td>\n",
       "      <td>RP009</td>\n",
       "    </tr>\n",
       "  </tbody>\n",
       "</table>\n",
       "</div>"
      ],
      "text/plain": [
       "  company_code posting_date fiscal_year fiscal_period account_number  \\\n",
       "0          BRA   2025-03-23        2025           P03          40003   \n",
       "1          CHN   2022-12-16        2022           P12          61005   \n",
       "\n",
       "  company_currency company_amount global_currency global_amount  \\\n",
       "0              BRL      100006.30             USD      19048.82   \n",
       "1              CNY        7720.34             USD       1069.30   \n",
       "\n",
       "  department_number cost_center_number profit_center_number  \\\n",
       "0             DP006             CC1001               PC0004   \n",
       "1             DP004             CC1010               PC0005   \n",
       "\n",
       "  purchase_order_number invoice_number supplier_number material_number  \\\n",
       "0         PSP03351-2503  ISP03351-2503         SP03351         M090001   \n",
       "1         PSP03221-2212  ISP03221-2212         SP03221         M090149   \n",
       "\n",
       "  sales_order_number customer_number product_number channel_number  \\\n",
       "0      SCS08020-2503         CS08020        P060045        CH00002   \n",
       "1      SCS08370-2212         CS08370        P060057        CH00002   \n",
       "\n",
       "  division_number       transaction_id transaction_type  \\\n",
       "0         DV00002  7317919591018176512            TT002   \n",
       "1         DV00001  7317919591085285376            TT002   \n",
       "\n",
       "  transaction_document_number transaction_document_item  \\\n",
       "0                  250323-713                       132   \n",
       "1                  221216-048                       223   \n",
       "\n",
       "  transaction_description reference_procedure  \n",
       "0                                       RP003  \n",
       "1                                       RP009  "
      ]
     },
     "execution_count": 61,
     "metadata": {},
     "output_type": "execute_result"
    }
   ],
   "source": [
    "journal_chunk_1 = pd.read_parquet(\"data/journal_chunk_1.parquet\")\n",
    "pd.set_option('display.max_columns', None)\n",
    "journal_chunk_1.head(2)"
   ]
  },
  {
   "cell_type": "code",
   "execution_count": 62,
   "metadata": {},
   "outputs": [
    {
     "name": "stderr",
     "output_type": "stream",
     "text": [
      "100%|██████████| 15/15 [00:11<00:00,  1.27it/s]\n"
     ]
    }
   ],
   "source": [
    "# Get list of journal chunk files\n",
    "journal_chunks = glob.glob(\"data/journal_chunk_*.parquet\")\n",
    "\n",
    "# Process each chunk\n",
    "for chunk_file in tqdm(journal_chunks):\n",
    "    # Read chunk\n",
    "    journal = pd.read_parquet(chunk_file)\n",
    "    \n",
    "    # nothing to translate\n",
    "    \n",
    "    # Save translated chunk\n",
    "    output_file = chunk_file.replace(\"data/\", \"out/\")\n",
    "    journal.to_parquet(output_file)\n"
   ]
  },
  {
   "cell_type": "markdown",
   "metadata": {},
   "source": [
    "# Material Group"
   ]
  },
  {
   "cell_type": "code",
   "execution_count": 66,
   "metadata": {},
   "outputs": [
    {
     "name": "stdout",
     "output_type": "stream",
     "text": [
      "(10, 2)\n"
     ]
    },
    {
     "data": {
      "text/html": [
       "<div>\n",
       "<style scoped>\n",
       "    .dataframe tbody tr th:only-of-type {\n",
       "        vertical-align: middle;\n",
       "    }\n",
       "\n",
       "    .dataframe tbody tr th {\n",
       "        vertical-align: top;\n",
       "    }\n",
       "\n",
       "    .dataframe thead th {\n",
       "        text-align: right;\n",
       "    }\n",
       "</style>\n",
       "<table border=\"1\" class=\"dataframe\">\n",
       "  <thead>\n",
       "    <tr style=\"text-align: right;\">\n",
       "      <th></th>\n",
       "      <th>material_group_number</th>\n",
       "      <th>material_group_name</th>\n",
       "    </tr>\n",
       "  </thead>\n",
       "  <tbody>\n",
       "    <tr>\n",
       "      <th>0</th>\n",
       "      <td>MG0010</td>\n",
       "      <td>Plastics</td>\n",
       "    </tr>\n",
       "    <tr>\n",
       "      <th>1</th>\n",
       "      <td>MG0006</td>\n",
       "      <td>Glass</td>\n",
       "    </tr>\n",
       "  </tbody>\n",
       "</table>\n",
       "</div>"
      ],
      "text/plain": [
       "  material_group_number material_group_name\n",
       "0                MG0010            Plastics\n",
       "1                MG0006               Glass"
      ]
     },
     "execution_count": 66,
     "metadata": {},
     "output_type": "execute_result"
    }
   ],
   "source": [
    "material_group = pd.read_parquet(\"data/material_group.parquet\")\n",
    "print(material_group.shape)\n",
    "material_group.head(2)"
   ]
  },
  {
   "cell_type": "code",
   "execution_count": 67,
   "metadata": {},
   "outputs": [
    {
     "name": "stderr",
     "output_type": "stream",
     "text": [
      "100%|██████████| 10/10 [00:05<00:00,  1.76it/s]\n"
     ]
    }
   ],
   "source": [
    "translated_material_group = material_group.copy()\n",
    "for column in [\"material_group_name\"]:\n",
    "    translated_material_group = translate_column(translated_material_group, column)\n",
    "translated_material_group.to_parquet(\"out/material_group.parquet\")"
   ]
  },
  {
   "cell_type": "markdown",
   "metadata": {},
   "source": [
    "# Material"
   ]
  },
  {
   "cell_type": "code",
   "execution_count": 68,
   "metadata": {},
   "outputs": [
    {
     "name": "stdout",
     "output_type": "stream",
     "text": [
      "(200, 3)\n"
     ]
    },
    {
     "data": {
      "text/html": [
       "<div>\n",
       "<style scoped>\n",
       "    .dataframe tbody tr th:only-of-type {\n",
       "        vertical-align: middle;\n",
       "    }\n",
       "\n",
       "    .dataframe tbody tr th {\n",
       "        vertical-align: top;\n",
       "    }\n",
       "\n",
       "    .dataframe thead th {\n",
       "        text-align: right;\n",
       "    }\n",
       "</style>\n",
       "<table border=\"1\" class=\"dataframe\">\n",
       "  <thead>\n",
       "    <tr style=\"text-align: right;\">\n",
       "      <th></th>\n",
       "      <th>material_number</th>\n",
       "      <th>material_name</th>\n",
       "      <th>material_group_number</th>\n",
       "    </tr>\n",
       "  </thead>\n",
       "  <tbody>\n",
       "    <tr>\n",
       "      <th>0</th>\n",
       "      <td>M090001</td>\n",
       "      <td>Polyethylene</td>\n",
       "      <td>MG0010</td>\n",
       "    </tr>\n",
       "    <tr>\n",
       "      <th>1</th>\n",
       "      <td>M090002</td>\n",
       "      <td>Polypropylene</td>\n",
       "      <td>MG0010</td>\n",
       "    </tr>\n",
       "  </tbody>\n",
       "</table>\n",
       "</div>"
      ],
      "text/plain": [
       "  material_number  material_name material_group_number\n",
       "0         M090001   Polyethylene                MG0010\n",
       "1         M090002  Polypropylene                MG0010"
      ]
     },
     "execution_count": 68,
     "metadata": {},
     "output_type": "execute_result"
    }
   ],
   "source": [
    "material = pd.read_parquet(\"data/material.parquet\")\n",
    "print(material.shape)\n",
    "material.head(2)"
   ]
  },
  {
   "cell_type": "code",
   "execution_count": 69,
   "metadata": {},
   "outputs": [
    {
     "name": "stderr",
     "output_type": "stream",
     "text": [
      "100%|██████████| 199/199 [01:59<00:00,  1.67it/s]\n"
     ]
    }
   ],
   "source": [
    "translated_material = material.copy()\n",
    "for column in [\"material_name\"]:\n",
    "    translated_material = translate_column(translated_material, column)\n",
    "translated_material.to_parquet(\"out/material.parquet\")"
   ]
  },
  {
   "cell_type": "markdown",
   "metadata": {},
   "source": [
    "# Plan"
   ]
  },
  {
   "cell_type": "code",
   "execution_count": 71,
   "metadata": {},
   "outputs": [
    {
     "name": "stdout",
     "output_type": "stream",
     "text": [
      "(1385674, 15)\n"
     ]
    },
    {
     "data": {
      "text/html": [
       "<div>\n",
       "<style scoped>\n",
       "    .dataframe tbody tr th:only-of-type {\n",
       "        vertical-align: middle;\n",
       "    }\n",
       "\n",
       "    .dataframe tbody tr th {\n",
       "        vertical-align: top;\n",
       "    }\n",
       "\n",
       "    .dataframe thead th {\n",
       "        text-align: right;\n",
       "    }\n",
       "</style>\n",
       "<table border=\"1\" class=\"dataframe\">\n",
       "  <thead>\n",
       "    <tr style=\"text-align: right;\">\n",
       "      <th></th>\n",
       "      <th>company_code</th>\n",
       "      <th>fiscal_year</th>\n",
       "      <th>fiscal_period</th>\n",
       "      <th>profit_center_number</th>\n",
       "      <th>product_number</th>\n",
       "      <th>company_currency</th>\n",
       "      <th>company_actual_amount</th>\n",
       "      <th>company_budget_amount</th>\n",
       "      <th>company_forecast_amount</th>\n",
       "      <th>company_previous_forecast_amount</th>\n",
       "      <th>global_currency</th>\n",
       "      <th>global_actual_amount</th>\n",
       "      <th>global_budget_amount</th>\n",
       "      <th>global_forecast_amount</th>\n",
       "      <th>global_previous_forecast_amount</th>\n",
       "    </tr>\n",
       "  </thead>\n",
       "  <tbody>\n",
       "    <tr>\n",
       "      <th>0</th>\n",
       "      <td>AUS</td>\n",
       "      <td>2021</td>\n",
       "      <td>P01</td>\n",
       "      <td>PC0001</td>\n",
       "      <td>P060001</td>\n",
       "      <td>AUD</td>\n",
       "      <td>0.00</td>\n",
       "      <td>9727.97</td>\n",
       "      <td>0.00</td>\n",
       "      <td>0.00</td>\n",
       "      <td>USD</td>\n",
       "      <td>0.00</td>\n",
       "      <td>6442.37</td>\n",
       "      <td>0.00</td>\n",
       "      <td>0.00</td>\n",
       "    </tr>\n",
       "    <tr>\n",
       "      <th>1</th>\n",
       "      <td>AUS</td>\n",
       "      <td>2021</td>\n",
       "      <td>P01</td>\n",
       "      <td>PC0001</td>\n",
       "      <td>P060002</td>\n",
       "      <td>AUD</td>\n",
       "      <td>0.00</td>\n",
       "      <td>14379.47</td>\n",
       "      <td>0.00</td>\n",
       "      <td>0.00</td>\n",
       "      <td>USD</td>\n",
       "      <td>0.00</td>\n",
       "      <td>9522.83</td>\n",
       "      <td>0.00</td>\n",
       "      <td>0.00</td>\n",
       "    </tr>\n",
       "  </tbody>\n",
       "</table>\n",
       "</div>"
      ],
      "text/plain": [
       "  company_code fiscal_year fiscal_period profit_center_number product_number  \\\n",
       "0          AUS        2021           P01               PC0001        P060001   \n",
       "1          AUS        2021           P01               PC0001        P060002   \n",
       "\n",
       "  company_currency company_actual_amount company_budget_amount  \\\n",
       "0              AUD                  0.00               9727.97   \n",
       "1              AUD                  0.00              14379.47   \n",
       "\n",
       "  company_forecast_amount company_previous_forecast_amount global_currency  \\\n",
       "0                    0.00                             0.00             USD   \n",
       "1                    0.00                             0.00             USD   \n",
       "\n",
       "  global_actual_amount global_budget_amount global_forecast_amount  \\\n",
       "0                 0.00              6442.37                   0.00   \n",
       "1                 0.00              9522.83                   0.00   \n",
       "\n",
       "  global_previous_forecast_amount  \n",
       "0                            0.00  \n",
       "1                            0.00  "
      ]
     },
     "execution_count": 71,
     "metadata": {},
     "output_type": "execute_result"
    }
   ],
   "source": [
    "plan = pd.read_parquet(\"data/plan.parquet\")\n",
    "print(plan.shape)\n",
    "plan.head(2)"
   ]
  },
  {
   "cell_type": "code",
   "execution_count": 72,
   "metadata": {},
   "outputs": [],
   "source": [
    "plan.to_parquet(\"out/plan.parquet\")"
   ]
  },
  {
   "cell_type": "markdown",
   "metadata": {},
   "source": [
    "# Product Group"
   ]
  },
  {
   "cell_type": "code",
   "execution_count": 73,
   "metadata": {},
   "outputs": [
    {
     "name": "stdout",
     "output_type": "stream",
     "text": [
      "(17, 2)\n"
     ]
    },
    {
     "data": {
      "text/html": [
       "<div>\n",
       "<style scoped>\n",
       "    .dataframe tbody tr th:only-of-type {\n",
       "        vertical-align: middle;\n",
       "    }\n",
       "\n",
       "    .dataframe tbody tr th {\n",
       "        vertical-align: top;\n",
       "    }\n",
       "\n",
       "    .dataframe thead th {\n",
       "        text-align: right;\n",
       "    }\n",
       "</style>\n",
       "<table border=\"1\" class=\"dataframe\">\n",
       "  <thead>\n",
       "    <tr style=\"text-align: right;\">\n",
       "      <th></th>\n",
       "      <th>product_group_number</th>\n",
       "      <th>product_group_name</th>\n",
       "    </tr>\n",
       "  </thead>\n",
       "  <tbody>\n",
       "    <tr>\n",
       "      <th>0</th>\n",
       "      <td>PG0008</td>\n",
       "      <td>Dairy Alternatives</td>\n",
       "    </tr>\n",
       "    <tr>\n",
       "      <th>1</th>\n",
       "      <td>PG0013</td>\n",
       "      <td>Nuts &amp; Spreads</td>\n",
       "    </tr>\n",
       "  </tbody>\n",
       "</table>\n",
       "</div>"
      ],
      "text/plain": [
       "  product_group_number  product_group_name\n",
       "0               PG0008  Dairy Alternatives\n",
       "1               PG0013      Nuts & Spreads"
      ]
     },
     "execution_count": 73,
     "metadata": {},
     "output_type": "execute_result"
    }
   ],
   "source": [
    "product_group = pd.read_parquet(\"data/product_group.parquet\")\n",
    "print(product_group.shape)\n",
    "product_group.head(2)"
   ]
  },
  {
   "cell_type": "code",
   "execution_count": 74,
   "metadata": {},
   "outputs": [
    {
     "name": "stderr",
     "output_type": "stream",
     "text": [
      "100%|██████████| 17/17 [00:09<00:00,  1.77it/s]\n"
     ]
    }
   ],
   "source": [
    "translated_product_group = product_group.copy()\n",
    "for column in [\"product_group_name\"]:\n",
    "    translated_product_group = translate_column(translated_product_group, column)\n",
    "translated_product_group.to_parquet(\"out/product_group.parquet\")"
   ]
  },
  {
   "cell_type": "markdown",
   "metadata": {},
   "source": [
    "# Product"
   ]
  },
  {
   "cell_type": "code",
   "execution_count": 75,
   "metadata": {},
   "outputs": [
    {
     "name": "stdout",
     "output_type": "stream",
     "text": [
      "(100, 3)\n"
     ]
    },
    {
     "data": {
      "text/html": [
       "<div>\n",
       "<style scoped>\n",
       "    .dataframe tbody tr th:only-of-type {\n",
       "        vertical-align: middle;\n",
       "    }\n",
       "\n",
       "    .dataframe tbody tr th {\n",
       "        vertical-align: top;\n",
       "    }\n",
       "\n",
       "    .dataframe thead th {\n",
       "        text-align: right;\n",
       "    }\n",
       "</style>\n",
       "<table border=\"1\" class=\"dataframe\">\n",
       "  <thead>\n",
       "    <tr style=\"text-align: right;\">\n",
       "      <th></th>\n",
       "      <th>product_number</th>\n",
       "      <th>product_name</th>\n",
       "      <th>product_group_number</th>\n",
       "    </tr>\n",
       "  </thead>\n",
       "  <tbody>\n",
       "    <tr>\n",
       "      <th>0</th>\n",
       "      <td>P060001</td>\n",
       "      <td>Organic Almond Milk</td>\n",
       "      <td>PG0008</td>\n",
       "    </tr>\n",
       "    <tr>\n",
       "      <th>1</th>\n",
       "      <td>P060002</td>\n",
       "      <td>Unsweetened Soy Milk</td>\n",
       "      <td>PG0008</td>\n",
       "    </tr>\n",
       "  </tbody>\n",
       "</table>\n",
       "</div>"
      ],
      "text/plain": [
       "  product_number          product_name product_group_number\n",
       "0        P060001   Organic Almond Milk               PG0008\n",
       "1        P060002  Unsweetened Soy Milk               PG0008"
      ]
     },
     "execution_count": 75,
     "metadata": {},
     "output_type": "execute_result"
    }
   ],
   "source": [
    "product = pd.read_parquet(\"data/product.parquet\")\n",
    "print(product.shape)\n",
    "product.head(2)"
   ]
  },
  {
   "cell_type": "code",
   "execution_count": 76,
   "metadata": {},
   "outputs": [
    {
     "name": "stderr",
     "output_type": "stream",
     "text": [
      "100%|██████████| 100/100 [00:51<00:00,  1.96it/s]\n"
     ]
    }
   ],
   "source": [
    "translated_product = product.copy()\n",
    "for column in [\"product_name\"]:\n",
    "    translated_product = translate_column(translated_product, column)\n",
    "translated_product.to_parquet(\"out/product.parquet\")"
   ]
  },
  {
   "cell_type": "markdown",
   "metadata": {},
   "source": [
    "# Profit Center"
   ]
  },
  {
   "cell_type": "code",
   "execution_count": 77,
   "metadata": {},
   "outputs": [
    {
     "name": "stdout",
     "output_type": "stream",
     "text": [
      "(10, 2)\n"
     ]
    },
    {
     "data": {
      "text/html": [
       "<div>\n",
       "<style scoped>\n",
       "    .dataframe tbody tr th:only-of-type {\n",
       "        vertical-align: middle;\n",
       "    }\n",
       "\n",
       "    .dataframe tbody tr th {\n",
       "        vertical-align: top;\n",
       "    }\n",
       "\n",
       "    .dataframe thead th {\n",
       "        text-align: right;\n",
       "    }\n",
       "</style>\n",
       "<table border=\"1\" class=\"dataframe\">\n",
       "  <thead>\n",
       "    <tr style=\"text-align: right;\">\n",
       "      <th></th>\n",
       "      <th>profit_center_number</th>\n",
       "      <th>profit_center_name</th>\n",
       "    </tr>\n",
       "  </thead>\n",
       "  <tbody>\n",
       "    <tr>\n",
       "      <th>0</th>\n",
       "      <td>PC0001</td>\n",
       "      <td>Beverage Division</td>\n",
       "    </tr>\n",
       "    <tr>\n",
       "      <th>1</th>\n",
       "      <td>PC0002</td>\n",
       "      <td>Snacks Division</td>\n",
       "    </tr>\n",
       "  </tbody>\n",
       "</table>\n",
       "</div>"
      ],
      "text/plain": [
       "  profit_center_number profit_center_name\n",
       "0               PC0001  Beverage Division\n",
       "1               PC0002    Snacks Division"
      ]
     },
     "execution_count": 77,
     "metadata": {},
     "output_type": "execute_result"
    }
   ],
   "source": [
    "profit_center = pd.read_parquet(\"data/profit_center.parquet\")\n",
    "print(profit_center.shape)\n",
    "profit_center.head(2)"
   ]
  },
  {
   "cell_type": "code",
   "execution_count": 78,
   "metadata": {},
   "outputs": [
    {
     "name": "stderr",
     "output_type": "stream",
     "text": [
      "100%|██████████| 10/10 [00:07<00:00,  1.30it/s]\n"
     ]
    }
   ],
   "source": [
    "translated_profit_center = profit_center.copy()\n",
    "for column in [\"profit_center_name\"]:\n",
    "    translated_profit_center = translate_column(translated_profit_center, column)\n",
    "translated_profit_center.to_parquet(\"out/profit_center.parquet\")"
   ]
  },
  {
   "cell_type": "markdown",
   "metadata": {},
   "source": [
    "# Supplier"
   ]
  },
  {
   "cell_type": "code",
   "execution_count": 79,
   "metadata": {},
   "outputs": [
    {
     "name": "stdout",
     "output_type": "stream",
     "text": [
      "(500, 2)\n"
     ]
    },
    {
     "data": {
      "text/html": [
       "<div>\n",
       "<style scoped>\n",
       "    .dataframe tbody tr th:only-of-type {\n",
       "        vertical-align: middle;\n",
       "    }\n",
       "\n",
       "    .dataframe tbody tr th {\n",
       "        vertical-align: top;\n",
       "    }\n",
       "\n",
       "    .dataframe thead th {\n",
       "        text-align: right;\n",
       "    }\n",
       "</style>\n",
       "<table border=\"1\" class=\"dataframe\">\n",
       "  <thead>\n",
       "    <tr style=\"text-align: right;\">\n",
       "      <th></th>\n",
       "      <th>supplier_number</th>\n",
       "      <th>supplier_name</th>\n",
       "    </tr>\n",
       "  </thead>\n",
       "  <tbody>\n",
       "    <tr>\n",
       "      <th>0</th>\n",
       "      <td>SP03001</td>\n",
       "      <td>Acme Packaging Solutions</td>\n",
       "    </tr>\n",
       "    <tr>\n",
       "      <th>1</th>\n",
       "      <td>SP03002</td>\n",
       "      <td>GreenLeaf Naturals</td>\n",
       "    </tr>\n",
       "  </tbody>\n",
       "</table>\n",
       "</div>"
      ],
      "text/plain": [
       "  supplier_number             supplier_name\n",
       "0         SP03001  Acme Packaging Solutions\n",
       "1         SP03002        GreenLeaf Naturals"
      ]
     },
     "execution_count": 79,
     "metadata": {},
     "output_type": "execute_result"
    }
   ],
   "source": [
    "supplier = pd.read_parquet(\"data/supplier.parquet\")\n",
    "print(supplier.shape)\n",
    "supplier.head(2)"
   ]
  },
  {
   "cell_type": "code",
   "execution_count": 80,
   "metadata": {},
   "outputs": [
    {
     "name": "stderr",
     "output_type": "stream",
     "text": [
      "100%|██████████| 499/499 [06:11<00:00,  1.34it/s]\n"
     ]
    }
   ],
   "source": [
    "translated_supplier = supplier.copy()\n",
    "for column in [\"supplier_name\"]:\n",
    "    translated_supplier = translate_column(translated_supplier, column)\n",
    "translated_supplier.to_parquet(\"out/supplier.parquet\")"
   ]
  },
  {
   "cell_type": "code",
   "execution_count": null,
   "metadata": {},
   "outputs": [],
   "source": []
  }
 ],
 "metadata": {
  "kernelspec": {
   "display_name": "conan",
   "language": "python",
   "name": "python3"
  },
  "language_info": {
   "codemirror_mode": {
    "name": "ipython",
    "version": 3
   },
   "file_extension": ".py",
   "mimetype": "text/x-python",
   "name": "python",
   "nbconvert_exporter": "python",
   "pygments_lexer": "ipython3",
   "version": "3.10.13"
  }
 },
 "nbformat": 4,
 "nbformat_minor": 2
}
